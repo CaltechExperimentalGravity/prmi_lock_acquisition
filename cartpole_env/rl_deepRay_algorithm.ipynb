{
  "nbformat": 4,
  "nbformat_minor": 0,
  "metadata": {
    "colab": {
      "provenance": []
    },
    "kernelspec": {
      "name": "python3",
      "display_name": "Python 3"
    },
    "language_info": {
      "name": "python"
    }
  },
  "cells": [
    {
      "cell_type": "code",
      "execution_count": 1,
      "metadata": {
        "colab": {
          "base_uri": "https://localhost:8080/"
        },
        "id": "gSPVOZEkSn55",
        "outputId": "72f24040-9c58-460d-c49c-0a4f1373ffad"
      },
      "outputs": [
        {
          "output_type": "stream",
          "name": "stderr",
          "text": [
            "/usr/local/lib/python3.10/dist-packages/gym/envs/registration.py:505: UserWarning: \u001b[33mWARN: The environment CartPole-v0 is out of date. You should consider upgrading to version `v1` with the environment ID `CartPole-v1`.\u001b[0m\n",
            "  logger.warn(\n"
          ]
        }
      ],
      "source": [
        "import gym\n",
        "env = gym.make(\"CartPole-v0\")"
      ]
    },
    {
      "cell_type": "code",
      "source": [
        "env.reset() # initial observation\n",
        "\n",
        "for i in range(20):\n",
        "\n",
        "  # env.action_space.sample() produces either 0 (left) or 1 (right).\n",
        "  observation, reward, done, info = env.step(env.action_space.sample())\n",
        "\n",
        "  print(\"step\", i, observation, reward, done, info)\n",
        "\n",
        "env.close()"
      ],
      "metadata": {
        "colab": {
          "base_uri": "https://localhost:8080/"
        },
        "id": "8KT4zBpkStEN",
        "outputId": "cda0e929-944f-4bc8-9286-b38d827e2352"
      },
      "execution_count": 2,
      "outputs": [
        {
          "output_type": "stream",
          "name": "stdout",
          "text": [
            "step 0 [ 0.04526065  0.23341721 -0.02059129 -0.3466628 ] 1.0 False {}\n",
            "step 1 [ 0.049929    0.4288259  -0.02752455 -0.6457671 ] 1.0 False {}\n",
            "step 2 [ 0.05850552  0.2340981  -0.04043989 -0.36187723] 1.0 False {}\n",
            "step 3 [ 0.06318748  0.03957358 -0.04767743 -0.0822151 ] 1.0 False {}\n",
            "step 4 [ 0.06397895  0.23534541 -0.04932174 -0.389551  ] 1.0 False {}\n",
            "step 5 [ 0.06868586  0.04095693 -0.05711276 -0.11281758] 1.0 False {}\n",
            "step 6 [ 0.069505    0.23684877 -0.05936911 -0.42295825] 1.0 False {}\n",
            "step 7 [ 0.07424197  0.43275934 -0.06782828 -0.73375064] 1.0 False {}\n",
            "step 8 [ 0.08289716  0.6287496  -0.08250329 -1.0469862 ] 1.0 False {}\n",
            "step 9 [ 0.09547215  0.8248638  -0.10344301 -1.3643854 ] 1.0 False {}\n",
            "step 10 [ 0.11196943  0.6311784  -0.13073072 -1.1057683 ] 1.0 False {}\n",
            "step 11 [ 0.124593    0.43799472 -0.15284608 -0.85679096] 1.0 False {}\n",
            "step 12 [ 0.13335289  0.63483185 -0.16998191 -1.1933664 ] 1.0 False {}\n",
            "step 13 [ 0.14604953  0.83169764 -0.19384924 -1.5341436 ] 1.0 False {}\n",
            "step 14 [ 0.16268349  0.63936657 -0.22453211 -1.307686  ] 1.0 True {}\n",
            "step 15 [ 0.17547081  0.8365149  -0.2506858  -1.6614445 ] 0.0 True {}\n",
            "step 16 [ 0.19220111  1.0335281  -0.28391472 -2.0206592 ] 0.0 True {}\n",
            "step 17 [ 0.21287167  1.2302612  -0.32432792 -2.386299  ] 0.0 True {}\n",
            "step 18 [ 0.2374769  1.4264866 -0.3720539 -2.7589812] 0.0 True {}\n",
            "step 19 [ 0.26600662  1.6218764  -0.42723352 -3.1388915 ] 0.0 True {}\n"
          ]
        },
        {
          "output_type": "stream",
          "name": "stderr",
          "text": [
            "/usr/local/lib/python3.10/dist-packages/ipykernel/ipkernel.py:283: DeprecationWarning: `should_run_async` will not call `transform_cell` automatically in the future. Please pass the result to `transformed_cell` argument and any exception that happen during thetransform in `preprocessing_exc_tuple` in IPython 7.17 and above.\n",
            "  and should_run_async(code)\n",
            "/usr/local/lib/python3.10/dist-packages/gym/envs/classic_control/cartpole.py:163: UserWarning: \u001b[33mWARN: You are calling 'step()' even though this environment has already returned done = True. You should always call 'reset()' once you receive 'done = True' -- any further steps are undefined behavior.\u001b[0m\n",
            "  logger.warn(\n"
          ]
        }
      ]
    },
    {
      "cell_type": "markdown",
      "source": [
        "**Dependencies for video display**"
      ],
      "metadata": {
        "id": "PcVqmjr0TImt"
      }
    },
    {
      "cell_type": "code",
      "source": [
        "!apt-get install -y xvfb x11-utils\n",
        "!pip install pyvirtualdisplay==0.2.*"
      ],
      "metadata": {
        "colab": {
          "base_uri": "https://localhost:8080/"
        },
        "collapsed": true,
        "id": "xmqAzjh0StN5",
        "outputId": "32e7746f-714a-463b-9d26-ccecf3dad49b"
      },
      "execution_count": 3,
      "outputs": [
        {
          "output_type": "stream",
          "name": "stdout",
          "text": [
            "Reading package lists... Done\n",
            "Building dependency tree... Done\n",
            "Reading state information... Done\n",
            "x11-utils is already the newest version (7.7+5build2).\n",
            "xvfb is already the newest version (2:21.1.4-2ubuntu1.7~22.04.12).\n",
            "0 upgraded, 0 newly installed, 0 to remove and 49 not upgraded.\n",
            "Requirement already satisfied: pyvirtualdisplay==0.2.* in /usr/local/lib/python3.10/dist-packages (0.2.5)\n",
            "Requirement already satisfied: EasyProcess in /usr/local/lib/python3.10/dist-packages (from pyvirtualdisplay==0.2.*) (1.1)\n"
          ]
        }
      ]
    },
    {
      "cell_type": "code",
      "source": [
        "from pyvirtualdisplay import Display\n",
        "display = Display(visible=False, size=(1400, 900))\n",
        "_ = display.start()"
      ],
      "metadata": {
        "id": "clMu7xiSStQu"
      },
      "execution_count": 4,
      "outputs": []
    },
    {
      "cell_type": "code",
      "source": [
        "from gym.wrappers.monitoring.video_recorder import VideoRecorder\n",
        "before_training = \"before_training.mp4\"\n",
        "\n",
        "video = VideoRecorder(env, before_training)\n",
        "# returns an initial observation\n",
        "env.reset()\n",
        "for i in range(200):\n",
        "  env.render()\n",
        "  video.capture_frame()\n",
        "  # env.action_space.sample() produces either 0 (left) or 1 (right).\n",
        "  observation, reward, done, info = env.step(env.action_space.sample())\n",
        "  # Not printing this time\n",
        "  #print(\"step\", i, observation, reward, done, info)\n",
        "\n",
        "video.close()\n",
        "env.close()"
      ],
      "metadata": {
        "colab": {
          "base_uri": "https://localhost:8080/"
        },
        "collapsed": true,
        "id": "iPTiyPeETVtT",
        "outputId": "76f7c03e-b90c-47b1-fc91-61d30f35aa5d"
      },
      "execution_count": 5,
      "outputs": [
        {
          "output_type": "stream",
          "name": "stderr",
          "text": [
            "/usr/local/lib/python3.10/dist-packages/ipykernel/ipkernel.py:283: DeprecationWarning: `should_run_async` will not call `transform_cell` automatically in the future. Please pass the result to `transformed_cell` argument and any exception that happen during thetransform in `preprocessing_exc_tuple` in IPython 7.17 and above.\n",
            "  and should_run_async(code)\n",
            "/usr/local/lib/python3.10/dist-packages/gym/wrappers/monitoring/video_recorder.py:115: DeprecationWarning: \u001b[33mWARN: `env.metadata[\"video.frames_per_second\"] is marked as deprecated and will be replaced with `env.metadata[\"render_fps\"]` see https://github.com/openai/gym/pull/2654 for more details\u001b[0m\n",
            "  logger.deprecation(\n",
            "/usr/local/lib/python3.10/dist-packages/pygame/pkgdata.py:27: DeprecationWarning: pkg_resources is deprecated as an API. See https://setuptools.pypa.io/en/latest/pkg_resources.html\n",
            "  from pkg_resources import resource_stream, resource_exists\n",
            "/usr/local/lib/python3.10/dist-packages/pkg_resources/__init__.py:3154: DeprecationWarning: Deprecated call to `pkg_resources.declare_namespace('google')`.\n",
            "Implementing implicit namespace packages (as specified in PEP 420) is preferred to `pkg_resources.declare_namespace`. See https://setuptools.pypa.io/en/latest/references/keywords.html#keyword-namespace-packages\n",
            "  declare_namespace(pkg)\n",
            "/usr/local/lib/python3.10/dist-packages/pkg_resources/__init__.py:3154: DeprecationWarning: Deprecated call to `pkg_resources.declare_namespace('google.cloud')`.\n",
            "Implementing implicit namespace packages (as specified in PEP 420) is preferred to `pkg_resources.declare_namespace`. See https://setuptools.pypa.io/en/latest/references/keywords.html#keyword-namespace-packages\n",
            "  declare_namespace(pkg)\n",
            "/usr/local/lib/python3.10/dist-packages/pkg_resources/__init__.py:3154: DeprecationWarning: Deprecated call to `pkg_resources.declare_namespace('sphinxcontrib')`.\n",
            "Implementing implicit namespace packages (as specified in PEP 420) is preferred to `pkg_resources.declare_namespace`. See https://setuptools.pypa.io/en/latest/references/keywords.html#keyword-namespace-packages\n",
            "  declare_namespace(pkg)\n",
            "/usr/local/lib/python3.10/dist-packages/gym/wrappers/monitoring/video_recorder.py:341: DeprecationWarning: Use shutil.which instead of find_executable\n",
            "  if distutils.spawn.find_executable(\"avconv\") is not None:\n",
            "/usr/local/lib/python3.10/dist-packages/gym/wrappers/monitoring/video_recorder.py:421: DeprecationWarning: distutils Version classes are deprecated. Use packaging.version instead.\n",
            "  if distutils.version.LooseVersion(\n",
            "/usr/local/lib/python3.10/dist-packages/gym/envs/classic_control/cartpole.py:163: UserWarning: \u001b[33mWARN: You are calling 'step()' even though this environment has already returned done = True. You should always call 'reset()' once you receive 'done = True' -- any further steps are undefined behavior.\u001b[0m\n",
            "  logger.warn(\n"
          ]
        }
      ]
    },
    {
      "cell_type": "markdown",
      "source": [
        "**Helper function to display video of untrained cartpole**"
      ],
      "metadata": {
        "id": "UlkbLlE8UJop"
      }
    },
    {
      "cell_type": "code",
      "source": [
        "from base64 import b64encode\n",
        "def render_mp4(videopath: str) -> str:\n",
        "  \"\"\"\n",
        "  Gets a string containing a b4-encoded version of the MP4 video\n",
        "  at the specified path.\n",
        "  \"\"\"\n",
        "  mp4 = open(videopath, 'rb').read()\n",
        "  base64_encoded_mp4 = b64encode(mp4).decode()\n",
        "  return f'<video width=400 controls><source src=\"data:video/mp4;' \\\n",
        "         f'base64,{base64_encoded_mp4}\" type=\"video/mp4\"></video>'\n"
      ],
      "metadata": {
        "colab": {
          "base_uri": "https://localhost:8080/"
        },
        "id": "VSajv-oHT9tQ",
        "outputId": "341cc842-e516-4c83-9fd0-d48ef289fad1"
      },
      "execution_count": 6,
      "outputs": [
        {
          "output_type": "stream",
          "name": "stderr",
          "text": [
            "/usr/local/lib/python3.10/dist-packages/ipykernel/ipkernel.py:283: DeprecationWarning: `should_run_async` will not call `transform_cell` automatically in the future. Please pass the result to `transformed_cell` argument and any exception that happen during thetransform in `preprocessing_exc_tuple` in IPython 7.17 and above.\n",
            "  and should_run_async(code)\n"
          ]
        }
      ]
    },
    {
      "cell_type": "code",
      "source": [
        "from IPython.display import HTML\n",
        "html = render_mp4(before_training)\n",
        "HTML(html)"
      ],
      "metadata": {
        "colab": {
          "base_uri": "https://localhost:8080/",
          "height": 288
        },
        "id": "GM03Ke_yT9uK",
        "outputId": "e522a234-5112-411b-a939-04405aae527c"
      },
      "execution_count": 7,
      "outputs": [
        {
          "output_type": "execute_result",
          "data": {
            "text/plain": [
              "<IPython.core.display.HTML object>"
            ],
            "text/html": [
              "<video width=400 controls><source src=\"data:video/mp4;base64,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\" type=\"video/mp4\"></video>"
            ]
          },
          "metadata": {},
          "execution_count": 7
        }
      ]
    },
    {
      "cell_type": "code",
      "source": [
        "!pip install 'ray[rllib]'==2.0"
      ],
      "metadata": {
        "colab": {
          "base_uri": "https://localhost:8080/"
        },
        "collapsed": true,
        "id": "VJZAW6AFT9w9",
        "outputId": "86942f5e-df68-42ed-dc56-6f14d299d008"
      },
      "execution_count": 8,
      "outputs": [
        {
          "output_type": "stream",
          "name": "stdout",
          "text": [
            "Requirement already satisfied: ray==2.0 in /usr/local/lib/python3.10/dist-packages (from ray[rllib]==2.0) (2.0.0)\n",
            "Requirement already satisfied: attrs in /usr/local/lib/python3.10/dist-packages (from ray==2.0->ray[rllib]==2.0) (24.3.0)\n",
            "Requirement already satisfied: click<=8.0.4,>=7.0 in /usr/local/lib/python3.10/dist-packages (from ray==2.0->ray[rllib]==2.0) (8.0.4)\n",
            "Requirement already satisfied: filelock in /usr/local/lib/python3.10/dist-packages (from ray==2.0->ray[rllib]==2.0) (3.16.1)\n",
            "Requirement already satisfied: jsonschema in /usr/local/lib/python3.10/dist-packages (from ray==2.0->ray[rllib]==2.0) (4.23.0)\n",
            "Requirement already satisfied: msgpack<2.0.0,>=1.0.0 in /usr/local/lib/python3.10/dist-packages (from ray==2.0->ray[rllib]==2.0) (1.1.0)\n",
            "Requirement already satisfied: protobuf<4.0.0,>=3.15.3 in /usr/local/lib/python3.10/dist-packages (from ray==2.0->ray[rllib]==2.0) (3.20.3)\n",
            "Requirement already satisfied: pyyaml in /usr/local/lib/python3.10/dist-packages (from ray==2.0->ray[rllib]==2.0) (6.0.2)\n",
            "Requirement already satisfied: aiosignal in /usr/local/lib/python3.10/dist-packages (from ray==2.0->ray[rllib]==2.0) (1.3.2)\n",
            "Requirement already satisfied: frozenlist in /usr/local/lib/python3.10/dist-packages (from ray==2.0->ray[rllib]==2.0) (1.5.0)\n",
            "Requirement already satisfied: requests in /usr/local/lib/python3.10/dist-packages (from ray==2.0->ray[rllib]==2.0) (2.32.3)\n",
            "Requirement already satisfied: virtualenv in /usr/local/lib/python3.10/dist-packages (from ray==2.0->ray[rllib]==2.0) (20.28.0)\n",
            "Requirement already satisfied: grpcio<=1.43.0,>=1.42.0 in /usr/local/lib/python3.10/dist-packages (from ray==2.0->ray[rllib]==2.0) (1.43.0)\n",
            "Requirement already satisfied: numpy>=1.19.3 in /usr/local/lib/python3.10/dist-packages (from ray==2.0->ray[rllib]==2.0) (1.26.4)\n",
            "Requirement already satisfied: pandas in /usr/local/lib/python3.10/dist-packages (from ray[rllib]==2.0) (2.2.2)\n",
            "Requirement already satisfied: tabulate in /usr/local/lib/python3.10/dist-packages (from ray[rllib]==2.0) (0.9.0)\n",
            "Requirement already satisfied: tensorboardX>=1.9 in /usr/local/lib/python3.10/dist-packages (from ray[rllib]==2.0) (2.6.2.2)\n",
            "Requirement already satisfied: dm-tree in /usr/local/lib/python3.10/dist-packages (from ray[rllib]==2.0) (0.1.8)\n",
            "Requirement already satisfied: gym<0.24.0,>=0.21.0 in /usr/local/lib/python3.10/dist-packages (from ray[rllib]==2.0) (0.23.1)\n",
            "Requirement already satisfied: lz4 in /usr/local/lib/python3.10/dist-packages (from ray[rllib]==2.0) (4.3.3)\n",
            "Requirement already satisfied: matplotlib!=3.4.3 in /usr/local/lib/python3.10/dist-packages (from ray[rllib]==2.0) (3.8.0)\n",
            "Requirement already satisfied: scikit-image in /usr/local/lib/python3.10/dist-packages (from ray[rllib]==2.0) (0.25.0)\n",
            "Requirement already satisfied: scipy in /usr/local/lib/python3.10/dist-packages (from ray[rllib]==2.0) (1.13.1)\n",
            "Requirement already satisfied: six>=1.5.2 in /usr/local/lib/python3.10/dist-packages (from grpcio<=1.43.0,>=1.42.0->ray==2.0->ray[rllib]==2.0) (1.17.0)\n",
            "Requirement already satisfied: cloudpickle>=1.2.0 in /usr/local/lib/python3.10/dist-packages (from gym<0.24.0,>=0.21.0->ray[rllib]==2.0) (3.1.0)\n",
            "Requirement already satisfied: gym_notices>=0.0.4 in /usr/local/lib/python3.10/dist-packages (from gym<0.24.0,>=0.21.0->ray[rllib]==2.0) (0.0.8)\n",
            "Requirement already satisfied: contourpy>=1.0.1 in /usr/local/lib/python3.10/dist-packages (from matplotlib!=3.4.3->ray[rllib]==2.0) (1.3.1)\n",
            "Requirement already satisfied: cycler>=0.10 in /usr/local/lib/python3.10/dist-packages (from matplotlib!=3.4.3->ray[rllib]==2.0) (0.12.1)\n",
            "Requirement already satisfied: fonttools>=4.22.0 in /usr/local/lib/python3.10/dist-packages (from matplotlib!=3.4.3->ray[rllib]==2.0) (4.55.3)\n",
            "Requirement already satisfied: kiwisolver>=1.0.1 in /usr/local/lib/python3.10/dist-packages (from matplotlib!=3.4.3->ray[rllib]==2.0) (1.4.7)\n",
            "Requirement already satisfied: packaging>=20.0 in /usr/local/lib/python3.10/dist-packages (from matplotlib!=3.4.3->ray[rllib]==2.0) (24.2)\n",
            "Requirement already satisfied: pillow>=6.2.0 in /usr/local/lib/python3.10/dist-packages (from matplotlib!=3.4.3->ray[rllib]==2.0) (11.0.0)\n",
            "Requirement already satisfied: pyparsing>=2.3.1 in /usr/local/lib/python3.10/dist-packages (from matplotlib!=3.4.3->ray[rllib]==2.0) (3.2.0)\n",
            "Requirement already satisfied: python-dateutil>=2.7 in /usr/local/lib/python3.10/dist-packages (from matplotlib!=3.4.3->ray[rllib]==2.0) (2.8.2)\n",
            "Requirement already satisfied: jsonschema-specifications>=2023.03.6 in /usr/local/lib/python3.10/dist-packages (from jsonschema->ray==2.0->ray[rllib]==2.0) (2024.10.1)\n",
            "Requirement already satisfied: referencing>=0.28.4 in /usr/local/lib/python3.10/dist-packages (from jsonschema->ray==2.0->ray[rllib]==2.0) (0.35.1)\n",
            "Requirement already satisfied: rpds-py>=0.7.1 in /usr/local/lib/python3.10/dist-packages (from jsonschema->ray==2.0->ray[rllib]==2.0) (0.22.3)\n",
            "Requirement already satisfied: pytz>=2020.1 in /usr/local/lib/python3.10/dist-packages (from pandas->ray[rllib]==2.0) (2024.2)\n",
            "Requirement already satisfied: tzdata>=2022.7 in /usr/local/lib/python3.10/dist-packages (from pandas->ray[rllib]==2.0) (2024.2)\n",
            "Requirement already satisfied: charset-normalizer<4,>=2 in /usr/local/lib/python3.10/dist-packages (from requests->ray==2.0->ray[rllib]==2.0) (3.4.0)\n",
            "Requirement already satisfied: idna<4,>=2.5 in /usr/local/lib/python3.10/dist-packages (from requests->ray==2.0->ray[rllib]==2.0) (3.10)\n",
            "Requirement already satisfied: urllib3<3,>=1.21.1 in /usr/local/lib/python3.10/dist-packages (from requests->ray==2.0->ray[rllib]==2.0) (2.2.3)\n",
            "Requirement already satisfied: certifi>=2017.4.17 in /usr/local/lib/python3.10/dist-packages (from requests->ray==2.0->ray[rllib]==2.0) (2024.12.14)\n",
            "Requirement already satisfied: networkx>=3.0 in /usr/local/lib/python3.10/dist-packages (from scikit-image->ray[rllib]==2.0) (3.4.2)\n",
            "Requirement already satisfied: imageio!=2.35.0,>=2.33 in /usr/local/lib/python3.10/dist-packages (from scikit-image->ray[rllib]==2.0) (2.36.1)\n",
            "Requirement already satisfied: tifffile>=2022.8.12 in /usr/local/lib/python3.10/dist-packages (from scikit-image->ray[rllib]==2.0) (2024.12.12)\n",
            "Requirement already satisfied: lazy-loader>=0.4 in /usr/local/lib/python3.10/dist-packages (from scikit-image->ray[rllib]==2.0) (0.4)\n",
            "Requirement already satisfied: distlib<1,>=0.3.7 in /usr/local/lib/python3.10/dist-packages (from virtualenv->ray==2.0->ray[rllib]==2.0) (0.3.9)\n",
            "Requirement already satisfied: platformdirs<5,>=3.9.1 in /usr/local/lib/python3.10/dist-packages (from virtualenv->ray==2.0->ray[rllib]==2.0) (4.3.6)\n"
          ]
        }
      ]
    },
    {
      "cell_type": "code",
      "source": [
        "!pip install gym[classic_control]\n"
      ],
      "metadata": {
        "colab": {
          "base_uri": "https://localhost:8080/"
        },
        "id": "UFI2IjqTYLkA",
        "outputId": "3f773438-9987-40fc-bfc2-28e80b58b596"
      },
      "execution_count": 9,
      "outputs": [
        {
          "output_type": "stream",
          "name": "stdout",
          "text": [
            "Requirement already satisfied: gym[classic_control] in /usr/local/lib/python3.10/dist-packages (0.23.1)\n",
            "Requirement already satisfied: numpy>=1.18.0 in /usr/local/lib/python3.10/dist-packages (from gym[classic_control]) (1.26.4)\n",
            "Requirement already satisfied: cloudpickle>=1.2.0 in /usr/local/lib/python3.10/dist-packages (from gym[classic_control]) (3.1.0)\n",
            "Requirement already satisfied: gym_notices>=0.0.4 in /usr/local/lib/python3.10/dist-packages (from gym[classic_control]) (0.0.8)\n",
            "Requirement already satisfied: pygame==2.1.0 in /usr/local/lib/python3.10/dist-packages (from gym[classic_control]) (2.1.0)\n"
          ]
        }
      ]
    },
    {
      "cell_type": "code",
      "source": [
        "import ray\n",
        "from ray.rllib.agents.ppo import PPOTrainer\n",
        "from ray.tune import run\n",
        "\n",
        "config = {\n",
        "    \"env\": \"CartPole-v0\",\n",
        "    \"framework\": \"torch\",  # Use \"tf\" for TensorFlow\n",
        "    \"model\": {\n",
        "        \"fcnet_hiddens\": [32],\n",
        "        \"fcnet_activation\": \"tanh\",\n",
        "    },\n",
        "}\n",
        "stop = {\n",
        "    \"episode_reward_mean\": 195,\n",
        "    \"training_iteration\": 100,  # Stop after 100 iterations, even if the reward isn't met\n",
        "}\n",
        "\n",
        "ray.shutdown()\n",
        "ray.init(\n",
        "    num_cpus=1,  # Adjust to available resources\n",
        "    include_dashboard=False,\n",
        "    ignore_reinit_error=True,\n",
        "    log_to_driver=False,\n",
        ")\n",
        "\n",
        "# Execute training\n",
        "results = run(\n",
        "    \"PPO\",\n",
        "    config=config,\n",
        "    stop=stop,\n",
        "    checkpoint_at_end=True,\n",
        "    verbose=1,\n",
        ")\n",
        "\n",
        "# Access the best trial or results\n",
        "best_result = results.get_best_result(metric=\"episode_reward_mean\", mode=\"max\")\n",
        "print(f\"Best trial config: {best_result.config}\")\n",
        "print(f\"Best trial final reward: {best_result.metrics['episode_reward_mean']}\")\n"
      ],
      "metadata": {
        "id": "L6UgFG5ZT9z1"
      },
      "execution_count": null,
      "outputs": []
    },
    {
      "cell_type": "code",
      "source": [
        "# restore a trainer from the last checkpoint\n",
        "trial = results.get_best_logdir(\"episode_reward_mean\", \"max\")\n",
        "checkpoint = results.get_best_checkpoint(\n",
        "  trial,\n",
        "  \"training_iteration\",\n",
        "  \"max\",\n",
        ")\n",
        "trainer = PPOTrainer(config=config)\n",
        "trainer.restore(checkpoint)"
      ],
      "metadata": {
        "colab": {
          "base_uri": "https://localhost:8080/",
          "height": 211
        },
        "id": "T3zNW-UtXYHj",
        "outputId": "022dfa2e-f0d7-45ec-cb0c-42ac48bca526"
      },
      "execution_count": 12,
      "outputs": [
        {
          "output_type": "error",
          "ename": "NameError",
          "evalue": "name 'results' is not defined",
          "traceback": [
            "\u001b[0;31m---------------------------------------------------------------------------\u001b[0m",
            "\u001b[0;31mNameError\u001b[0m                                 Traceback (most recent call last)",
            "\u001b[0;32m<ipython-input-12-e3c9f781fb8f>\u001b[0m in \u001b[0;36m<cell line: 2>\u001b[0;34m()\u001b[0m\n\u001b[1;32m      1\u001b[0m \u001b[0;31m# restore a trainer from the last checkpoint\u001b[0m\u001b[0;34m\u001b[0m\u001b[0;34m\u001b[0m\u001b[0m\n\u001b[0;32m----> 2\u001b[0;31m \u001b[0mtrial\u001b[0m \u001b[0;34m=\u001b[0m \u001b[0mresults\u001b[0m\u001b[0;34m.\u001b[0m\u001b[0mget_best_logdir\u001b[0m\u001b[0;34m(\u001b[0m\u001b[0;34m\"episode_reward_mean\"\u001b[0m\u001b[0;34m,\u001b[0m \u001b[0;34m\"max\"\u001b[0m\u001b[0;34m)\u001b[0m\u001b[0;34m\u001b[0m\u001b[0;34m\u001b[0m\u001b[0m\n\u001b[0m\u001b[1;32m      3\u001b[0m checkpoint = results.get_best_checkpoint(\n\u001b[1;32m      4\u001b[0m   \u001b[0mtrial\u001b[0m\u001b[0;34m,\u001b[0m\u001b[0;34m\u001b[0m\u001b[0;34m\u001b[0m\u001b[0m\n\u001b[1;32m      5\u001b[0m   \u001b[0;34m\"training_iteration\"\u001b[0m\u001b[0;34m,\u001b[0m\u001b[0;34m\u001b[0m\u001b[0;34m\u001b[0m\u001b[0m\n",
            "\u001b[0;31mNameError\u001b[0m: name 'results' is not defined"
          ]
        }
      ]
    },
    {
      "cell_type": "code",
      "source": [
        "after_training = \"after_training.mp4\"\n",
        "after_video = VideoRecorder(env, after_training)\n",
        "observation = env.reset()\n",
        "done = False\n",
        "while not done:\n",
        "  env.render()\n",
        "  after_video.capture_frame()\n",
        "  action = trainer.compute_action(observation)\n",
        "  observation, reward, done, info = env.step(action)\n",
        "after_video.close()\n",
        "env.close()\n",
        "# You should get a video similar to the one below.\n",
        "html = render_mp4(after_training)\n",
        "HTML(html)\n"
      ],
      "metadata": {
        "id": "V2kwVPBfXYQ8"
      },
      "execution_count": null,
      "outputs": []
    },
    {
      "cell_type": "code",
      "source": [],
      "metadata": {
        "id": "OfCXVuXeXYUE"
      },
      "execution_count": null,
      "outputs": []
    },
    {
      "cell_type": "code",
      "source": [],
      "metadata": {
        "id": "KLdqWOB6XYYv"
      },
      "execution_count": null,
      "outputs": []
    },
    {
      "cell_type": "code",
      "source": [],
      "metadata": {
        "id": "LhYF91RSXYbE"
      },
      "execution_count": null,
      "outputs": []
    }
  ]
}